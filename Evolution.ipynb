{
 "cells": [
  {
   "cell_type": "code",
   "execution_count": 102,
   "metadata": {
    "collapsed": false
   },
   "outputs": [],
   "source": [
    "import PreProcessing\n",
    "from Prediction import AIPrediction\n",
    "import pandas"
   ]
  },
  {
   "cell_type": "code",
   "execution_count": 103,
   "metadata": {
    "collapsed": false
   },
   "outputs": [],
   "source": [
    "#Define Prediction name\n",
    "Pname='LinearRegression'\n",
    "\n",
    "#Select starting variables. If you want to start again, make sure to erase 'Good_variables_%s.json'%Pname \n",
    "Good_variables={'pCR': [u'KDR_Squared', u'ATF3', u'RPS6_Squared', u'cyto.cat=Misc', u'GATA3', u'CDKN2A_Squared', u'NF2.pS518', u'CASP9.cl315_Squared', u'IGFBP2', u'SMAD3_Squared', u'PRKAA1_2.pT172_Squared', u'HDAC3_Squared', u'CLPP', u'PRIOR.MAL', u'ATG7', u'cyto.cat=diploid', u'DLX1_Squared', u'MSI2', u'CCNE2', u'NPM1.3542', u'ARC', u'cyto.cat=21', u'ITGAL', u'SMAD2_Squared', u'RPS6.pS240_244', u'MYC', u'LCK_Squared', u'ITGA2', u'GAPDH', u'CCNE1', u'PA2G4.pT70_Squared', u'cyto.cat=-7', u'MTOR.pS2448_Squared', u'CD44', u'PRKCB.II_Squared', u'MAP2K1_2.pS217_221_Squared', u'BAD.pS136_Squared', u'CASP9.cl330', u'GSKA_B.pS21_9', u'CTSG', u'FOXO3_Squared', u'TGM2', u'STAT3.pS727', u'CASP8_Squared', u'PIK3CA', u'RPS6', u'SFN', u'PTK2_Squared', u'ZNF296_Squared', u'PRKCD.pT507', u'Age.at.Dx', u'STMN1_Squared', u'YWHAZ_Squared', u'HSPB1', u'STMN1', u'PDK1.pS241_Squared', u'CDK1', u'MAPK9'],\n",
    "                'pRelapse': [u'cyto.cat=t9;22', 'IGFBP2_Squared', u'CCND3', u'KIT_Squared', u'PTEN.pS380T382T383', u'BCL2_Squared', u'BAK1_Squared', u'SMAD5.pS463_Squared', 'MDM2', 'ARC', u'PTPN11_Squared', u'H3histon_Squared', u'PA2G4.pS65_Squared', 'HDAC1_Squared', u'EIF2S1.pS51._Squared'], \n",
    "                'OS': [u'PRIOR.MAL', u'ARC', u'cyto.cat=diploid', u'H3histon', u'Age.at.Dx', u'PTGS2_Squared', u'SMAD4', u'PA2G4.pS65', u'STMN1', u'EIF2AK2', u'H3K27Me3', u'HSP90AA1_B1'], \n",
    "                'Remission': [u'CASP9.cl330', u'ERG', u'ALBUMIN', u'CASP3.cl175', u'TP53', u'RPS6KB1.pT389', u'PLAC1', u'JMJD6', u'SMAD3_Squared', u'ERG_Squared', u'TRIM24', u'Age.at.Dx', u'HSPA1A_L', u'ATG7_Squared', u'ARC_Squared', u'STAT3.pS727', u'CBL_Squared', u'BIRC5_Squared', u'ARC', u'YWHAE', u'SMAD5.pS463', u'BRAF_Squared', u'MTOR.pS2448_Squared']}\n",
    "\n",
    "#Select Dependent Variables\n",
    "Variables_for_prediction={'pCR':'resp.simple',\n",
    "                          'pRelapse':'Relapse',\n",
    "                          'OS':'Overall_Survival_cut',\n",
    "                          'Remission':'Remission_Duration_cut'}\n",
    "\n",
    "#Select scoring measure to use for minimization\n",
    "Fast_measure='BAC' #Select between BAC PCC or Scr. You can select two Measures, \n",
    "                       #the second measure will overwrite the first one. ('BAC','Auroc')\n",
    "Slow_measure={'pCR':'BAC',\n",
    "              'pRelapse':'BAC',\n",
    "              'OS':'BAC',\n",
    "              'Remission':'BAC'}\n",
    "\n",
    "#Select max time in hours to run the prediction\n",
    "max_time_h= 8#Max number of hours that you can run the simulation"
   ]
  },
  {
   "cell_type": "code",
   "execution_count": 104,
   "metadata": {
    "collapsed": true
   },
   "outputs": [],
   "source": [
    "#Read prediction bias\n",
    "Var_value=pandas.DataFrame.from_csv('Variable_value.csv')"
   ]
  },
  {
   "cell_type": "code",
   "execution_count": 105,
   "metadata": {
    "collapsed": false
   },
   "outputs": [
    {
     "name": "stdout",
     "output_type": "stream",
     "text": [
      "              AUROC       BAC        CI       PCC       Scr\n",
      "pCR        0.949485  0.852799       NaN  0.884548 -2.454186\n",
      "pRelapse   0.766794  0.664629       NaN  0.717755 -2.941280\n",
      "OS              NaN  0.441962  0.685279  0.713083 -3.709842\n",
      "Remission       NaN  0.460416  0.686021  0.740003 -5.313586\n",
      "\n",
      "[4 rows x 5 columns]\n"
     ]
    }
   ],
   "source": [
    "#Define prediction class\n",
    "from sklearn import linear_model\n",
    "Pred=AIPrediction(pivot=Good_variables,method=linear_model.LinearRegression())\n",
    "print Pred.result(rep=10)"
   ]
  },
  {
   "cell_type": "code",
   "execution_count": 106,
   "metadata": {
    "collapsed": false
   },
   "outputs": [],
   "source": [
    "#Define Best Prediction\n",
    "Pred.pivot=Good_variables\n",
    "groups=Pred.create_groups(50)\n",
    "Best_scores=Pred.score(groups=groups,Measure=tuple(set(Slow_measure.values())))\n",
    "Best_result=Pred.accuracy(groups=groups,Measure=Fast_measure)"
   ]
  },
  {
   "cell_type": "code",
   "execution_count": 112,
   "metadata": {
    "collapsed": false
   },
   "outputs": [],
   "source": [
    "if True:\n",
    "    #Open Good variables if it exists\n",
    "    try:\n",
    "        with open('Good_variables_%s.json'%Pname) as handle:\n",
    "            Good_variables=json.loads(handle.read())\n",
    "    except IOError:\n",
    "        print 'Did not found previous good variables'\n",
    "        pass\n",
    "    #Open Variable values if it exists\n",
    "    try:\n",
    "        pandas.DataFrame.from_csv('Var_value_%s.csv'%Pname)\n",
    "    except IOError:\n",
    "        print 'Did not found previous variable values'\n",
    "        pass"
   ]
  },
  {
   "cell_type": "code",
   "execution_count": 108,
   "metadata": {
    "collapsed": false
   },
   "outputs": [],
   "source": [
    "#Define Biased Sample\n",
    "import random,numpy\n",
    "def biased_sample(variables,k,bias):\n",
    "    var=list(variables)\n",
    "    Bias=bias[variables].copy()\n",
    "    n = len(variables)\n",
    "    bias=numpy.cumsum(Bias[variables])\n",
    "    if len(bias)==0:\n",
    "        bias=[1 for i in range(n)]\n",
    "    if not 0 <= k <= n:\n",
    "        #print population\n",
    "        k=n\n",
    "        #raise ValueError(\"sample larger than population\")\n",
    "    r = random.random()\n",
    "    result = [None] * k # Initialize result\n",
    "    selected = set()\n",
    "    max_freq=bias[-1]\n",
    "    for i in xrange(k):\n",
    "        #print i\n",
    "        r = random.random() * max_freq\n",
    "        #r=max_freq\n",
    "        for j,b in enumerate(bias):\n",
    "            #print r,j,b\n",
    "            if r<b:\n",
    "                break\n",
    "        selected.add(var[j])\n",
    "        result[i] = var[j]\n",
    "        #print r,b,j,var[j],'\\n',bias\n",
    "        var.pop(j)\n",
    "        bias=numpy.cumsum(Bias[var])\n",
    "        if len(bias)>0:\n",
    "            max_freq=bias[-1]\n",
    "        else:\n",
    "            break\n",
    "    return result"
   ]
  },
  {
   "cell_type": "code",
   "execution_count": 110,
   "metadata": {
    "collapsed": false
   },
   "outputs": [],
   "source": [
    "#Evolution algorithm\n",
    "import time,json\n",
    "\n",
    "Stop=time.time()+60*60*max_time_h #Stop time in seconds\n",
    "i=0 #Iteration number counter\n",
    "while time.time()<Stop:  \n",
    "    Update_Best=False #Only update best if conditions apply\n",
    "    i=i+1\n",
    "    #print i\n",
    "    #Select Test variables\n",
    "    Test_variables={}\n",
    "    change_variables={}\n",
    "    change={}\n",
    "    for key in Good_variables.keys():\n",
    "        Rnd=random.random()\n",
    "        if Rnd>0.65: #Sometimes drop a variable\n",
    "            l=len(Good_variables[key])\n",
    "            n=min(l-random.randint(1,5),1)\n",
    "            change.update({key:'remove'})\n",
    "            new_variables=biased_sample(Good_variables[key],n,1/(Var_value[key]+1))\n",
    "            change_variables.update({key:[v for v in Good_variables[key] if v not in new_variables]})\n",
    "            Test_variables.update({key:new_variables})\n",
    "        elif Rnd>0.1: #Sometimes add a variable\n",
    "            varis=[v for v in Var_value[key].index if v not in Good_variables[key]]\n",
    "            l=len(varis)\n",
    "            n=min(random.randint(1,5),l)\n",
    "            change.update({key:'add'})\n",
    "            change_variables.update({key:biased_sample(varis,n,Var_value[key])})\n",
    "            new_variables=Good_variables[key]+change_variables[key]\n",
    "            Test_variables.update({key:new_variables})\n",
    "        else: #Sometimes choose something completely random\n",
    "            l=min(len(Var_value[key].index),len(Good_variables[key])*2)\n",
    "            change.update({key:'try'})\n",
    "            new_variables=biased_sample(varis,random.randint(1,l),Var_value[key])\n",
    "            change_variables.update({key:new_variables})\n",
    "            Test_variables.update({key:new_variables})\n",
    "        #print key,change, change_variables[key]\n",
    "\n",
    "    #Update Test_variables\n",
    "    Pred.pivot=Test_variables\n",
    "    Test_result=Pred.accuracy(groups=groups[:10],Measure=Fast_measure) #Fast measure\n",
    "    \n",
    "    #Test against best prediction\n",
    "    Next=True\n",
    "    rew={}\n",
    "    for key in Good_variables.keys():\n",
    "        rew.update({key:1.0})\n",
    "        if Test_result[key]>Best_result[key]:\n",
    "            Next=False\n",
    "            if change[key]=='add':\n",
    "                rew.update({key:1.05})\n",
    "            elif change[key]=='remove':\n",
    "                rew.update({key:0.95})\n",
    "            elif change[key]=='try':\n",
    "                rew.update({key:1.02})\n",
    "            else:\n",
    "                raise 'Undefined change'       \n",
    "        else:\n",
    "            if change[key]=='add':\n",
    "                rew.update({key:0.9})\n",
    "            elif change[key]=='remove':\n",
    "                rew.update({key:1.1})\n",
    "            elif change[key]=='try':\n",
    "                rew.update({key:0.98})\n",
    "            else:\n",
    "                raise 'Undefined change'\n",
    "    \n",
    "    #Update bias weights\n",
    "    for key in Good_variables.keys():\n",
    "        for var in change_variables[key]:\n",
    "            if Var_value[key][var]>0.02 and Var_value[key][var]<2.0:\n",
    "                Var_value[key][var]*=rew[key]\n",
    "            if Var_value[key][var]<0.02:\n",
    "                Var_value[key][var]=0.02\n",
    "            if Var_value[key][var]>2.0:\n",
    "                Var_value[key][var]=2.0\n",
    "    #Write to csv\n",
    "    Var_value.to_csv('Var_value_%s.csv'%Pname)\n",
    "    \n",
    "    #Continue with next if it did not improve\n",
    "    if Next:\n",
    "        continue\n",
    "    \n",
    "    #Test how many times it has a better result\n",
    "    Test_scores=Pred.score(groups=groups,Measure=tuple(set(Slow_measure.values())))\n",
    "    for key in Test_scores.keys():\n",
    "        conf=0.0\n",
    "        new_BACs=Test_scores[key][Slow_measure[key]]\n",
    "        old_BACs=Best_scores[key][Slow_measure[key]]\n",
    "        new_BACs.sort()\n",
    "        old_BACs.sort()\n",
    "        pos=0.0\n",
    "        tot=float(len(new_BACs)**2)\n",
    "        for new in new_BACs:\n",
    "            for k,old in enumerate(old_BACs):\n",
    "                if old>new:\n",
    "                    pos+=k\n",
    "                    break\n",
    "        conf=pos/tot\n",
    "        #If more than 60% are better, update\n",
    "        if conf>0.6:\n",
    "            with open('Log_%s.txt'%Pname,'a+') as handle:\n",
    "                handle.write('Updated: '+key+'\\n')\n",
    "            Good_variables.update({key:Test_variables[key]})\n",
    "            Update_Best=True\n",
    "    \n",
    "    #Update variables\n",
    "    if Update_Best:\n",
    "        Pred.pivot=Good_variables\n",
    "        groups=Pred.create_groups(50)\n",
    "        Best_result=Pred.accuracy(groups=groups)\n",
    "        Best_scores=Pred.score(groups=groups,Measure=tuple(set(Slow_measure.values())))\n",
    "        with open('Log_%s.txt'%Pname,'a+') as handle:\n",
    "            handle.write(str(Good_variables)+'\\n')\n",
    "            handle.write(str(Best_result)+'\\n')\n",
    "        with open('Good_variables_%s.json'%Pname,'w+') as handle:\n",
    "            handle.write(json.dumps(Good_variables))"
   ]
  },
  {
   "cell_type": "code",
   "execution_count": 111,
   "metadata": {
    "collapsed": false
   },
   "outputs": [
    {
     "name": "stdout",
     "output_type": "stream",
     "text": [
      "iter 5515\n",
      "              AUROC       BAC        CI       PCC       Scr\n",
      "pCR        0.953573  0.864075       NaN  0.888080 -2.406808\n",
      "pRelapse   0.870564  0.790981       NaN  0.806139 -2.569379\n",
      "OS              NaN  0.527292  0.708775  0.739846 -3.489609\n",
      "Remission       NaN  0.544744  0.717729  0.756642 -5.054538\n",
      "\n",
      "[4 rows x 5 columns]\n"
     ]
    }
   ],
   "source": [
    "print 'iter',i\n",
    "Pred.pivot=Good_variables\n",
    "print Pred.result(rep=10)"
   ]
  }
 ],
 "metadata": {
  "kernelspec": {
   "display_name": "Python 2",
   "language": "python",
   "name": "python2"
  },
  "language_info": {
   "codemirror_mode": {
    "name": "ipython",
    "version": 2
   },
   "file_extension": ".py",
   "mimetype": "text/x-python",
   "name": "python",
   "nbconvert_exporter": "python",
   "pygments_lexer": "ipython2",
   "version": "2.7.6"
  }
 },
 "nbformat": 4,
 "nbformat_minor": 0
}
