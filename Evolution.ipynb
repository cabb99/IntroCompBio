{
 "cells": [
  {
   "cell_type": "code",
   "execution_count": 1,
   "metadata": {
    "collapsed": false
   },
   "outputs": [],
   "source": [
    "import PreProcessing\n",
    "from Prediction import AIPrediction\n",
    "import pandas"
   ]
  },
  {
   "cell_type": "code",
   "execution_count": 2,
   "metadata": {
    "collapsed": false
   },
   "outputs": [],
   "source": [
    "#Define Prediction name\n",
    "Pname='Perceptron'\n",
    "\n",
    "#Select starting variables\n",
    "Good_variables={'pCR': [u'KDR_Squared', u'ATF3', u'RPS6_Squared', u'cyto.cat=Misc', u'GATA3', u'CDKN2A_Squared', u'NF2.pS518', u'CASP9.cl315_Squared', u'IGFBP2', u'SMAD3_Squared', u'PRKAA1_2.pT172_Squared', u'HDAC3_Squared', u'CLPP', u'PRIOR.MAL', u'ATG7', u'cyto.cat=diploid', u'DLX1_Squared', u'MSI2', u'CCNE2', u'NPM1.3542', u'ARC', u'cyto.cat=21', u'ITGAL', u'SMAD2_Squared', u'RPS6.pS240_244', u'MYC', u'LCK_Squared', u'ITGA2', u'GAPDH', u'CCNE1', u'PA2G4.pT70_Squared', u'cyto.cat=-7', u'MTOR.pS2448_Squared', u'CD44', u'PRKCB.II_Squared', u'MAP2K1_2.pS217_221_Squared', u'BAD.pS136_Squared', u'CASP9.cl330', u'GSKA_B.pS21_9', u'CTSG', u'FOXO3_Squared', u'TGM2', u'STAT3.pS727', u'CASP8_Squared', u'PIK3CA', u'RPS6', u'SFN', u'PTK2_Squared', u'ZNF296_Squared', u'PRKCD.pT507', u'Age.at.Dx', u'STMN1_Squared', u'YWHAZ_Squared', u'HSPB1', u'STMN1', u'PDK1.pS241_Squared', u'CDK1', u'MAPK9'],\n",
    "                'pRelapse': [u'cyto.cat=t9;22', 'IGFBP2_Squared', u'CCND3', u'KIT_Squared', u'PTEN.pS380T382T383', u'BCL2_Squared', u'BAK1_Squared', u'SMAD5.pS463_Squared', 'MDM2', 'ARC', u'PTPN11_Squared', u'H3histon_Squared', u'PA2G4.pS65_Squared', 'HDAC1_Squared', u'EIF2S1.pS51._Squared'], \n",
    "                'OS': [u'PRIOR.MAL', u'ARC', u'cyto.cat=diploid', u'H3histon', u'Age.at.Dx', u'PTGS2_Squared', u'SMAD4', u'PA2G4.pS65', u'STMN1', u'EIF2AK2', u'H3K27Me3', u'HSP90AA1_B1'], \n",
    "                'Remission': [u'CASP9.cl330', u'ERG', u'ALBUMIN', u'CASP3.cl175', u'TP53', u'RPS6KB1.pT389', u'PLAC1', u'JMJD6', u'SMAD3_Squared', u'ERG_Squared', u'TRIM24', u'Age.at.Dx', u'HSPA1A_L', u'ATG7_Squared', u'ARC_Squared', u'STAT3.pS727', u'CBL_Squared', u'BIRC5_Squared', u'ARC', u'YWHAE', u'SMAD5.pS463', u'BRAF_Squared', u'MTOR.pS2448_Squared']}\n",
    "\n",
    "#Select Dependent Variables\n",
    "Variables_for_prediction={'pCR':'resp.simple',\n",
    "                          'pRelapse':'Relapse',\n",
    "                          'OS':'Overall_Survival_binned',\n",
    "                          'Remission':'Remission_Duration_binned'}\n",
    "\n",
    "#Select scoring measure to use for minimization\n",
    "Fast_measure='BAC' #Select between BAC PCC or Scr. You can select two Measures, \n",
    "                       #the second measure will overwrite the first one. ('BAC','Auroc')\n",
    "Slow_measure={'pCR':'BAC',\n",
    "              'pRelapse':'BAC',\n",
    "              'OS':'BAC',\n",
    "              'Remission':'BAC'}\n",
    "\n",
    "#Select max time in hours to run the prediction\n",
    "max_time_h= 0.01#Max number of hours that you can run the simulation"
   ]
  },
  {
   "cell_type": "code",
   "execution_count": 3,
   "metadata": {
    "collapsed": false
   },
   "outputs": [
    {
     "name": "stdout",
     "output_type": "stream",
     "text": [
      "              AUROC       BAC        CI       PCC       Scr\n",
      "pCR        0.097052  0.538579       NaN  0.542866 -5.319706\n",
      "pRelapse   0.380050  0.637606       NaN  0.639478 -4.006018\n",
      "OS              NaN  0.337530  0.020137  0.513069 -5.574427\n",
      "Remission       NaN  0.343056  0.022497  0.516946 -6.556422\n",
      "\n",
      "[4 rows x 5 columns]\n"
     ]
    }
   ],
   "source": [
    "#Read prediction bias\n",
    "Var_value=pandas.DataFrame.from_csv('Variable_value.csv')\n",
    "\n",
    "#Define prediction class\n",
    "from sklearn.linear_model import Perceptron\n",
    "Pred=AIPrediction(pivot=Good_variables,method=Perceptron(),binned=True)\n",
    "print Pred.result(rep=10)"
   ]
  },
  {
   "cell_type": "code",
   "execution_count": 4,
   "metadata": {
    "collapsed": false
   },
   "outputs": [],
   "source": [
    "#Define Best Prediction\n",
    "Pred.pivot=Good_variables\n",
    "groups=Pred.create_groups(50)\n",
    "Best_scores=Pred.score(groups=groups,Measure=tuple(set(Slow_measure.values())))\n",
    "Best_result=Pred.accuracy(groups=groups,Measure=Fast_measure)"
   ]
  },
  {
   "cell_type": "code",
   "execution_count": 9,
   "metadata": {
    "collapsed": false
   },
   "outputs": [],
   "source": [
    "#Define Biased Sample\n",
    "import random\n",
    "def biased_sample(variables,k,bias):\n",
    "    n = len(variables)\n",
    "    bias=numpy.cumsum(bias[variables])\n",
    "    if len(bias)==0:\n",
    "        bias=[1 for i in range(n)]\n",
    "    if not 0 <= k <= n:\n",
    "        #print population\n",
    "        k=n\n",
    "        #raise ValueError(\"sample larger than population\")\n",
    "    r = random.random()\n",
    "    result = [None] * k # Initialize result\n",
    "    selected = set()\n",
    "    max_freq=bias[-1]\n",
    "    for i in xrange(k):\n",
    "        #print i\n",
    "        r = random.random() * max_freq\n",
    "        for j,b in enumerate(bias):\n",
    "            #print r,j,b\n",
    "            if r<b:\n",
    "                break\n",
    "        while j in selected:\n",
    "            print j,selected\n",
    "            r = random.random() * max_freq\n",
    "            for j,b in enumerate(bias):\n",
    "                #print r,j,b\n",
    "                if r<b:\n",
    "                    break\n",
    "        selected.add(j)\n",
    "        result[i] = variables[j]\n",
    "    return result"
   ]
  },
  {
   "cell_type": "code",
   "execution_count": 10,
   "metadata": {
    "collapsed": false
   },
   "outputs": [
    {
     "name": "stdout",
     "output_type": "stream",
     "text": [
      "1\n"
     ]
    },
    {
     "ename": "NameError",
     "evalue": "global name 'numpy' is not defined",
     "output_type": "error",
     "traceback": [
      "\u001b[1;31m---------------------------------------------------------------------------\u001b[0m",
      "\u001b[1;31mNameError\u001b[0m                                 Traceback (most recent call last)",
      "\u001b[1;32m<ipython-input-10-013e21c15731>\u001b[0m in \u001b[0;36m<module>\u001b[1;34m()\u001b[0m\n\u001b[0;32m     17\u001b[0m             \u001b[0mn\u001b[0m\u001b[1;33m=\u001b[0m\u001b[0mmin\u001b[0m\u001b[1;33m(\u001b[0m\u001b[0mrandom\u001b[0m\u001b[1;33m.\u001b[0m\u001b[0mrandint\u001b[0m\u001b[1;33m(\u001b[0m\u001b[1;36m1\u001b[0m\u001b[1;33m,\u001b[0m\u001b[1;36m5\u001b[0m\u001b[1;33m)\u001b[0m\u001b[1;33m,\u001b[0m\u001b[0ml\u001b[0m\u001b[1;33m)\u001b[0m\u001b[1;33m\u001b[0m\u001b[0m\n\u001b[0;32m     18\u001b[0m             \u001b[0mchange\u001b[0m\u001b[1;33m=\u001b[0m\u001b[1;34m'remove'\u001b[0m\u001b[1;33m\u001b[0m\u001b[0m\n\u001b[1;32m---> 19\u001b[1;33m             \u001b[0mnew_variables\u001b[0m\u001b[1;33m=\u001b[0m\u001b[0mbiased_sample\u001b[0m\u001b[1;33m(\u001b[0m\u001b[0mGood_variables\u001b[0m\u001b[1;33m[\u001b[0m\u001b[0mkey\u001b[0m\u001b[1;33m]\u001b[0m\u001b[1;33m,\u001b[0m\u001b[0mn\u001b[0m\u001b[1;33m,\u001b[0m\u001b[1;36m1\u001b[0m\u001b[1;33m/\u001b[0m\u001b[1;33m(\u001b[0m\u001b[0mVar_value\u001b[0m\u001b[1;33m[\u001b[0m\u001b[0mkey\u001b[0m\u001b[1;33m]\u001b[0m\u001b[1;33m+\u001b[0m\u001b[1;36m1\u001b[0m\u001b[1;33m)\u001b[0m\u001b[1;33m)\u001b[0m\u001b[1;33m\u001b[0m\u001b[0m\n\u001b[0m\u001b[0;32m     20\u001b[0m             \u001b[0mchange_variables\u001b[0m\u001b[1;33m.\u001b[0m\u001b[0mupdate\u001b[0m\u001b[1;33m(\u001b[0m\u001b[1;33m{\u001b[0m\u001b[0mkey\u001b[0m\u001b[1;33m:\u001b[0m\u001b[1;33m[\u001b[0m\u001b[0mv\u001b[0m \u001b[1;32mfor\u001b[0m \u001b[0mv\u001b[0m \u001b[1;32min\u001b[0m \u001b[0mGood_variables\u001b[0m\u001b[1;33m[\u001b[0m\u001b[0mkey\u001b[0m\u001b[1;33m]\u001b[0m \u001b[1;32mif\u001b[0m \u001b[0mv\u001b[0m \u001b[1;32mnot\u001b[0m \u001b[1;32min\u001b[0m \u001b[0mnew_variables\u001b[0m\u001b[1;33m]\u001b[0m\u001b[1;33m}\u001b[0m\u001b[1;33m)\u001b[0m\u001b[1;33m\u001b[0m\u001b[0m\n\u001b[0;32m     21\u001b[0m             \u001b[0mTest_variables\u001b[0m\u001b[1;33m.\u001b[0m\u001b[0mupdate\u001b[0m\u001b[1;33m(\u001b[0m\u001b[1;33m{\u001b[0m\u001b[0mkey\u001b[0m\u001b[1;33m:\u001b[0m\u001b[0mnew_variables\u001b[0m\u001b[1;33m}\u001b[0m\u001b[1;33m)\u001b[0m\u001b[1;33m\u001b[0m\u001b[0m\n",
      "\u001b[1;32m<ipython-input-9-2a2e39c53b64>\u001b[0m in \u001b[0;36mbiased_sample\u001b[1;34m(variables, k, bias)\u001b[0m\n\u001b[0;32m      3\u001b[0m \u001b[1;32mdef\u001b[0m \u001b[0mbiased_sample\u001b[0m\u001b[1;33m(\u001b[0m\u001b[0mvariables\u001b[0m\u001b[1;33m,\u001b[0m\u001b[0mk\u001b[0m\u001b[1;33m,\u001b[0m\u001b[0mbias\u001b[0m\u001b[1;33m)\u001b[0m\u001b[1;33m:\u001b[0m\u001b[1;33m\u001b[0m\u001b[0m\n\u001b[0;32m      4\u001b[0m     \u001b[0mn\u001b[0m \u001b[1;33m=\u001b[0m \u001b[0mlen\u001b[0m\u001b[1;33m(\u001b[0m\u001b[0mvariables\u001b[0m\u001b[1;33m)\u001b[0m\u001b[1;33m\u001b[0m\u001b[0m\n\u001b[1;32m----> 5\u001b[1;33m     \u001b[0mbias\u001b[0m\u001b[1;33m=\u001b[0m\u001b[0mnumpy\u001b[0m\u001b[1;33m.\u001b[0m\u001b[0mcumsum\u001b[0m\u001b[1;33m(\u001b[0m\u001b[0mbias\u001b[0m\u001b[1;33m[\u001b[0m\u001b[0mvariables\u001b[0m\u001b[1;33m]\u001b[0m\u001b[1;33m)\u001b[0m\u001b[1;33m\u001b[0m\u001b[0m\n\u001b[0m\u001b[0;32m      6\u001b[0m     \u001b[1;32mif\u001b[0m \u001b[0mlen\u001b[0m\u001b[1;33m(\u001b[0m\u001b[0mbias\u001b[0m\u001b[1;33m)\u001b[0m\u001b[1;33m==\u001b[0m\u001b[1;36m0\u001b[0m\u001b[1;33m:\u001b[0m\u001b[1;33m\u001b[0m\u001b[0m\n\u001b[0;32m      7\u001b[0m         \u001b[0mbias\u001b[0m\u001b[1;33m=\u001b[0m\u001b[1;33m[\u001b[0m\u001b[1;36m1\u001b[0m \u001b[1;32mfor\u001b[0m \u001b[0mi\u001b[0m \u001b[1;32min\u001b[0m \u001b[0mrange\u001b[0m\u001b[1;33m(\u001b[0m\u001b[0mn\u001b[0m\u001b[1;33m)\u001b[0m\u001b[1;33m]\u001b[0m\u001b[1;33m\u001b[0m\u001b[0m\n",
      "\u001b[1;31mNameError\u001b[0m: global name 'numpy' is not defined"
     ]
    }
   ],
   "source": [
    "#Evolution algorithm\n",
    "import time,json\n",
    "\n",
    "Stop=time.time()+60*60*max_time_h #Stop time in seconds\n",
    "i=0 #Iteration number counter\n",
    "while time.time()<Stop:  \n",
    "    Update_Best=False #Only update best if conditions apply\n",
    "    i=i+1\n",
    "    print i\n",
    "    #Select Test variables\n",
    "    Test_variables={}\n",
    "    change_variables={}\n",
    "    for key in Good_variables.keys():\n",
    "        Rnd=random.random()\n",
    "        if Rnd>0.65: #Sometimes drop a variable\n",
    "            l=len(Good_variables[key])\n",
    "            n=min(random.randint(1,5),l)\n",
    "            change='remove'\n",
    "            new_variables=biased_sample(Good_variables[key],n,1/(Var_value[key]+1))\n",
    "            change_variables.update({key:[v for v in Good_variables[key] if v not in new_variables]})\n",
    "            Test_variables.update({key:new_variables})\n",
    "        elif Rnd>0.1: #Sometimes add a variable\n",
    "            varis=[v for v in Var_value[key].index if v not in Good_variables[key]]\n",
    "            l=len(varis)\n",
    "            n=min(random.randint(1,5),l)\n",
    "            change='add'\n",
    "            change_variables.update({key:biased_sample(varis,n,Var_value[key])})\n",
    "            new_variables=Good_variables[key]+change_variables[key]\n",
    "            Test_variables.update({key:new_variables})\n",
    "        else: #Sometimes choose something completely random\n",
    "            l=min(len(Pool[key]),len(Good_variables[key])*2)\n",
    "            change='try'\n",
    "            new_variables=biased_sample(varis,random.randint(1,l),Var_value[key])\n",
    "            change_variables.update({key:new_variables})\n",
    "            Test_variables.update({key:new_variables})\n",
    "        print key,change, change_variables[key]\n",
    "\n",
    "    #Update Test_variables\n",
    "    Pred.pivot=Test_variables\n",
    "    Test_result=Pred.accuracy(groups=groups[:10],Measure=Fast_measure) #Fast measure\n",
    "    \n",
    "    #Test against best prediction\n",
    "    Next=True\n",
    "    rew={}\n",
    "    for key in Good_variables.keys():\n",
    "        rew.update({key:1.0})\n",
    "        if Test_result[key]>Best_result[key]:\n",
    "            Next=False\n",
    "            if change=='add':\n",
    "                rew.update({key:1.05})\n",
    "            elif change=='remove':\n",
    "                rew.update({key:0.95})\n",
    "            elif change=='try':\n",
    "                rew.update({key:1.02})\n",
    "            else:\n",
    "                raise 'Undefined change'       \n",
    "        else:\n",
    "            if change=='add':\n",
    "                rew.update({key:0.9})\n",
    "            elif change=='remove':\n",
    "                rew.update({key:1.1})\n",
    "            elif change=='try':\n",
    "                rew.update({key:0.98})\n",
    "            else:\n",
    "                raise 'Undefined change'\n",
    "    \n",
    "    #Update bias weights\n",
    "    for key in Good_variables.keys():\n",
    "        for var in change_variables[key]:\n",
    "            Var_value[key][var]*=rew[key]\n",
    "    \n",
    "    #Write to csv\n",
    "    Var_value.to_csv('Var_value_%s.csv'%Pname)\n",
    "    \n",
    "    #Continue with next if it did not improve\n",
    "    if Next:\n",
    "        continue\n",
    "    \n",
    "    #Test how many times it has a better result\n",
    "    Test_scores=Pred.score(groups=groups,Measure=tuple(set(Slow_measure.values())))\n",
    "    for key in Test_result.keys():\n",
    "        conf=0.0\n",
    "        new_BACs=Test_scores[key][Slow_measure[key]]\n",
    "        old_BACs=Best_scores[key][Slow_measure[key]]\n",
    "        new_BACs.sort()\n",
    "        old_BACs.sort()\n",
    "        pos=0.0\n",
    "        tot=float(len(new_BACs)**2)\n",
    "        for new in new_BACs:\n",
    "            for k,old in enumerate(old_BACs):\n",
    "                if old>new:\n",
    "                    pos+=k\n",
    "                    break\n",
    "        conf=pos/tot\n",
    "        \n",
    "        #If more than 60% are better, update\n",
    "        if conf>0.6:\n",
    "            with open('Good_variables.txt','a+') as handle:\n",
    "                handle.write('Updated: '+key+'\\n')\n",
    "            Good_variables.update({key:Test_variables[key]})\n",
    "            Update_Best=True\n",
    "    \n",
    "    #Update variables\n",
    "    if Update_Best:\n",
    "        Pred.pivot=Good_variables\n",
    "        groups=Pred.create_groups(50)\n",
    "        Best_result=Pred.accuracy(groups=groups)\n",
    "        Best_result=Pred.score(groups=groups,Measure=tuple(set(Slow_measure.values())))\n",
    "        with open('Log_%s.txt'%Pname,'a+') as handle:\n",
    "            handle.write(str(Good_variables)+'\\n')\n",
    "            handle.write(str(Best_result)+'\\n')\n",
    "        with open('Good_variables.json','w+') as handle:\n",
    "            handle.write(json.dumps(Good_variables))"
   ]
  },
  {
   "cell_type": "code",
   "execution_count": 185,
   "metadata": {
    "collapsed": false
   },
   "outputs": [
    {
     "data": {
      "text/plain": [
       "894"
      ]
     },
     "execution_count": 185,
     "metadata": {},
     "output_type": "execute_result"
    }
   ],
   "source": [
    "len(varis)"
   ]
  },
  {
   "cell_type": "code",
   "execution_count": null,
   "metadata": {
    "collapsed": false
   },
   "outputs": [],
   "source": []
  },
  {
   "cell_type": "code",
   "execution_count": 33,
   "metadata": {
    "collapsed": false
   },
   "outputs": [
    {
     "data": {
      "text/plain": [
       "909"
      ]
     },
     "execution_count": 33,
     "metadata": {},
     "output_type": "execute_result"
    }
   ],
   "source": [
    "import pandas,numpy\n",
    "Independent=[v for v in PreProcessing.Q_training if v not in PreProcessing.Q_Dependent]\n",
    "Pool          =pandas.DataFrame({'pCR': [1 for v in Independent],\n",
    "                'pRelapse': [1 for v in Independent], \n",
    "                'OS': [1 for v in Independent], \n",
    "                'Remission': [1 for v in Independent]}, index=Independent)\n",
    "\n",
    "numpy.cumsum(Pool['OS'].values)\n"
   ]
  },
  {
   "cell_type": "code",
   "execution_count": null,
   "metadata": {
    "collapsed": false
   },
   "outputs": [],
   "source": [
    "Var_value"
   ]
  },
  {
   "cell_type": "code",
   "execution_count": 129,
   "metadata": {
    "collapsed": false
   },
   "outputs": [
    {
     "data": {
      "text/plain": [
       "['PCC', 'CI', 'BAC', 'Scr']"
      ]
     },
     "execution_count": 129,
     "metadata": {},
     "output_type": "execute_result"
    }
   ],
   "source": [
    "Best_scores['OS'].keys()"
   ]
  },
  {
   "cell_type": "code",
   "execution_count": 99,
   "metadata": {
    "collapsed": false
   },
   "outputs": [
    {
     "data": {
      "text/plain": [
       "[u'PTPN11_Squared']"
      ]
     },
     "execution_count": 99,
     "metadata": {},
     "output_type": "execute_result"
    }
   ],
   "source": [
    "import random\n",
    "\n",
    "population=[u'cyto.cat=t9;22', 'IGFBP2_Squared', u'CCND3', u'KIT_Squared', u'PTEN.pS380T382T383', u'BCL2_Squared', u'BAK1_Squared', u'SMAD5.pS463_Squared', 'MDM2', 'ARC', u'PTPN11_Squared', u'H3histon_Squared', u'PA2G4.pS65_Squared', 'HDAC1_Squared', u'EIF2S1.pS51._Squared']\n",
    "bias=numpy.cumsum(Pool['pCR'][population])\n",
    "k=5\n",
    "def biased_sample(variables,k,bias):\n",
    "    n = len(population)\n",
    "    bias=numpy.cumsum(bias[population])\n",
    "    if len(bias)==0:\n",
    "        bias=[1 for i in range(n)]\n",
    "    if not 0 <= k <= n:\n",
    "        #print population\n",
    "        k=n\n",
    "        #raise ValueError(\"sample larger than population\")\n",
    "    r = random.random()\n",
    "    result = [None] * k # Initialize result\n",
    "    selected = set()\n",
    "    max_freq=bias[-1]\n",
    "    for i in xrange(k):\n",
    "        #print i\n",
    "        r = random.random() * max_freq\n",
    "        for j,b in enumerate(bias):\n",
    "            #print r,j,b\n",
    "            if r<b:\n",
    "                break\n",
    "        while j in selected:\n",
    "            r = random.random() * max_freq\n",
    "            for j,b in enumerate(bias):\n",
    "                #print r,j,b\n",
    "                if r<b:\n",
    "                    break\n",
    "        selected.add(j)\n",
    "        result[i] = population[j]\n",
    "    return result\n",
    "biased_sample(population,1,Pool['pCR'])"
   ]
  },
  {
   "cell_type": "code",
   "execution_count": 44,
   "metadata": {
    "collapsed": false
   },
   "outputs": [],
   "source": [
    "population=[u'cyto.cat=t9;22', 'IGFBP2_Squared', u'CCND3', u'KIT_Squared', u'PTEN.pS380T382T383', u'BCL2_Squared', u'BAK1_Squared', u'SMAD5.pS463_Squared', 'MDM2', 'ARC', u'PTPN11_Squared', u'H3histon_Squared', u'PA2G4.pS65_Squared', 'HDAC1_Squared', u'EIF2S1.pS51._Squared']\n",
    "bias=Pool['pCR']"
   ]
  },
  {
   "cell_type": "code",
   "execution_count": 75,
   "metadata": {
    "collapsed": false
   },
   "outputs": [
    {
     "data": {
      "text/plain": [
       "<bound method Series.pop of cyto.cat=t9;22           1\n",
       "IGFBP2_Squared           2\n",
       "CCND3                    3\n",
       "KIT_Squared              4\n",
       "PTEN.pS380T382T383       5\n",
       "BCL2_Squared             6\n",
       "BAK1_Squared             7\n",
       "SMAD5.pS463_Squared      8\n",
       "MDM2                     9\n",
       "ARC                     10\n",
       "PTPN11_Squared          11\n",
       "H3histon_Squared        12\n",
       "PA2G4.pS65_Squared      13\n",
       "HDAC1_Squared           14\n",
       "EIF2S1.pS51._Squared    15\n",
       "Name: pCR, dtype: int64>"
      ]
     },
     "execution_count": 75,
     "metadata": {},
     "output_type": "execute_result"
    }
   ],
   "source": [
    "bias=numpy.cumsum(Pool['pCR'][population])"
   ]
  },
  {
   "cell_type": "code",
   "execution_count": 54,
   "metadata": {
    "collapsed": false
   },
   "outputs": [
    {
     "data": {
      "text/plain": [
       "<module 'random' from '/usr/lib/python2.7/random.pyc'>"
      ]
     },
     "execution_count": 54,
     "metadata": {},
     "output_type": "execute_result"
    }
   ],
   "source": [
    "import random\n",
    "random"
   ]
  },
  {
   "cell_type": "code",
   "execution_count": 101,
   "metadata": {
    "collapsed": false
   },
   "outputs": [],
   "source": [
    "Pool.to_csv('Variable_value.csv')"
   ]
  },
  {
   "cell_type": "code",
   "execution_count": 65,
   "metadata": {
    "collapsed": false
   },
   "outputs": [
    {
     "data": {
      "text/plain": [
       "8.583354201546422"
      ]
     },
     "execution_count": 65,
     "metadata": {},
     "output_type": "execute_result"
    }
   ],
   "source": [
    "r"
   ]
  },
  {
   "cell_type": "code",
   "execution_count": null,
   "metadata": {
    "collapsed": true
   },
   "outputs": [],
   "source": []
  }
 ],
 "metadata": {
  "kernelspec": {
   "display_name": "Python 2",
   "language": "python",
   "name": "python2"
  },
  "language_info": {
   "codemirror_mode": {
    "name": "ipython",
    "version": 2
   },
   "file_extension": ".py",
   "mimetype": "text/x-python",
   "name": "python",
   "nbconvert_exporter": "python",
   "pygments_lexer": "ipython2",
   "version": "2.7.6"
  }
 },
 "nbformat": 4,
 "nbformat_minor": 0
}
