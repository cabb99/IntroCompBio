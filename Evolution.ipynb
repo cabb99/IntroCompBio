{
 "cells": [
  {
   "cell_type": "code",
   "execution_count": 1,
   "metadata": {
    "collapsed": false
   },
   "outputs": [],
   "source": [
    "import PreProcessing\n",
    "from Prediction import AIPrediction\n",
    "import pandas,json"
   ]
  },
  {
   "cell_type": "code",
   "execution_count": 2,
   "metadata": {
    "collapsed": false
   },
   "outputs": [],
   "source": [
    "#Define Prediction name\n",
    "Pname='LinearRegression'\n",
    "\n",
    "#Select starting variables. If you want to start again, make sure to erase 'Good_variables_%s.json'%Pname \n",
    "Good_variables={'pCR': [u'KDR_Squared', u'ATF3', u'RPS6_Squared', u'cyto.cat=Misc', u'GATA3', u'CDKN2A_Squared', u'NF2.pS518', u'CASP9.cl315_Squared', u'IGFBP2', u'SMAD3_Squared', u'PRKAA1_2.pT172_Squared', u'HDAC3_Squared', u'CLPP', u'PRIOR.MAL', u'ATG7', u'cyto.cat=diploid', u'DLX1_Squared', u'MSI2', u'CCNE2', u'NPM1.3542', u'ARC', u'cyto.cat=21', u'ITGAL', u'SMAD2_Squared', u'RPS6.pS240_244', u'MYC', u'LCK_Squared', u'ITGA2', u'GAPDH', u'CCNE1', u'PA2G4.pT70_Squared', u'cyto.cat=-7', u'MTOR.pS2448_Squared', u'CD44', u'PRKCB.II_Squared', u'MAP2K1_2.pS217_221_Squared', u'BAD.pS136_Squared', u'CASP9.cl330', u'GSKA_B.pS21_9', u'CTSG', u'FOXO3_Squared', u'TGM2', u'STAT3.pS727', u'CASP8_Squared', u'PIK3CA', u'RPS6', u'SFN', u'PTK2_Squared', u'ZNF296_Squared', u'PRKCD.pT507', u'Age.at.Dx', u'STMN1_Squared', u'YWHAZ_Squared', u'HSPB1', u'STMN1', u'PDK1.pS241_Squared', u'CDK1', u'MAPK9'],\n",
    "                'pRelapse': [u'cyto.cat=t9;22', 'IGFBP2_Squared', u'CCND3', u'KIT_Squared', u'PTEN.pS380T382T383', u'BCL2_Squared', u'BAK1_Squared', u'SMAD5.pS463_Squared', 'MDM2', 'ARC', u'PTPN11_Squared', u'H3histon_Squared', u'PA2G4.pS65_Squared', 'HDAC1_Squared', u'EIF2S1.pS51._Squared'], \n",
    "                'OS': [u'PRIOR.MAL', u'ARC', u'cyto.cat=diploid', u'H3histon', u'Age.at.Dx', u'PTGS2_Squared', u'SMAD4', u'PA2G4.pS65', u'STMN1', u'EIF2AK2', u'H3K27Me3', u'HSP90AA1_B1'], \n",
    "                'Remission': [u'CASP9.cl330', u'ERG', u'ALBUMIN', u'CASP3.cl175', u'TP53', u'RPS6KB1.pT389', u'PLAC1', u'JMJD6', u'SMAD3_Squared', u'ERG_Squared', u'TRIM24', u'Age.at.Dx', u'HSPA1A_L', u'ATG7_Squared', u'ARC_Squared', u'STAT3.pS727', u'CBL_Squared', u'BIRC5_Squared', u'ARC', u'YWHAE', u'SMAD5.pS463', u'BRAF_Squared', u'MTOR.pS2448_Squared']}\n",
    "\n",
    "#Select Dependent Variables\n",
    "Variables_for_prediction={'pCR':'resp.simple',\n",
    "                          'pRelapse':'Relapse',\n",
    "                          'OS':'Overall_Survival_cut',\n",
    "                          'Remission':'Remission_Duration_cut'}\n",
    "\n",
    "#Select scoring measure to use for minimization\n",
    "Fast_measure='BAC' #Select between BAC PCC or Scr. You can select two Measures, \n",
    "                       #the second measure will overwrite the first one. ('BAC','Auroc')\n",
    "Slow_measure={'pCR':'BAC',\n",
    "              'pRelapse':'BAC',\n",
    "              'OS':'BAC',\n",
    "              'Remission':'BAC'}\n",
    "\n",
    "#Select max time in hours to run the prediction\n",
    "max_time_h= 5/60.0#Max number of hours that you can run the simulation"
   ]
  },
  {
   "cell_type": "code",
   "execution_count": 3,
   "metadata": {
    "collapsed": true
   },
   "outputs": [],
   "source": [
    "#Read prediction bias\n",
    "Var_value=pandas.DataFrame.from_csv('Variable_value.csv')"
   ]
  },
  {
   "cell_type": "code",
   "execution_count": 4,
   "metadata": {
    "collapsed": false
   },
   "outputs": [],
   "source": [
    "if True: #Use Previous Good Variables\n",
    "    #Open Good variables if it exists\n",
    "    try:\n",
    "        with open('Good_variables_%s.json'%Pname) as handle:\n",
    "            Good_variables=json.loads(handle.read())\n",
    "    except IOError:\n",
    "        print 'Did not found previous good variables'\n",
    "        pass\n",
    "    \n",
    "if True:#Use previous prefiction bias\n",
    "    #Open Variable values if it exists\n",
    "    try:\n",
    "        pandas.DataFrame.from_csv('Var_value_%s.csv'%Pname)\n",
    "    except IOError:\n",
    "        print 'Did not found previous variable values'\n",
    "        pass"
   ]
  },
  {
   "cell_type": "code",
   "execution_count": 5,
   "metadata": {
    "collapsed": false
   },
   "outputs": [
    {
     "name": "stdout",
     "output_type": "stream",
     "text": [
      "              AUROC       BAC        CI       PCC       Scr\n",
      "pCR        0.955492  0.865595       NaN  0.888985 -2.418630\n",
      "pRelapse   0.865556  0.784218       NaN  0.806831 -2.605776\n",
      "OS              NaN  0.519205  0.710901  0.737290 -3.531933\n",
      "Remission       NaN  0.545527  0.717291  0.754212 -5.043201\n",
      "\n",
      "[4 rows x 5 columns]\n"
     ]
    }
   ],
   "source": [
    "#Define prediction class\n",
    "from sklearn import linear_model\n",
    "Pred=AIPrediction(pivot=Good_variables,method=linear_model.LinearRegression())\n",
    "print Pred.result(rep=10)"
   ]
  },
  {
   "cell_type": "code",
   "execution_count": 6,
   "metadata": {
    "collapsed": false
   },
   "outputs": [],
   "source": [
    "#Define Best Prediction\n",
    "Pred.pivot=Good_variables\n",
    "groups=Pred.create_groups(50)\n",
    "Best_scores=Pred.score(groups=groups,Measure=tuple(set(Slow_measure.values())))\n",
    "Best_result=Pred.accuracy(groups=groups,Measure=Fast_measure)"
   ]
  },
  {
   "cell_type": "code",
   "execution_count": 7,
   "metadata": {
    "collapsed": false
   },
   "outputs": [],
   "source": [
    "#Define Biased Sample\n",
    "import random,numpy\n",
    "def biased_sample(variables,k,bias):\n",
    "    var=list(variables)\n",
    "    Bias=bias[variables].copy()\n",
    "    n = len(variables)\n",
    "    bias=numpy.cumsum(Bias[variables])\n",
    "    if len(bias)==0:\n",
    "        bias=[1 for i in range(n)]\n",
    "    if not 0 <= k <= n:\n",
    "        #print population\n",
    "        k=n\n",
    "        #raise ValueError(\"sample larger than population\")\n",
    "    r = random.random()\n",
    "    result = [None] * k # Initialize result\n",
    "    selected = set()\n",
    "    max_freq=bias[-1]\n",
    "    for i in xrange(k):\n",
    "        #print i\n",
    "        r = random.random() * max_freq\n",
    "        #r=max_freq\n",
    "        for j,b in enumerate(bias):\n",
    "            #print r,j,b\n",
    "            if r<b:\n",
    "                break\n",
    "        selected.add(var[j])\n",
    "        result[i] = var[j]\n",
    "        #print r,b,j,var[j],'\\n',bias\n",
    "        var.pop(j)\n",
    "        bias=numpy.cumsum(Bias[var])\n",
    "        if len(bias)>0:\n",
    "            max_freq=bias[-1]\n",
    "        else:\n",
    "            break\n",
    "    return result"
   ]
  },
  {
   "cell_type": "code",
   "execution_count": 8,
   "metadata": {
    "collapsed": false
   },
   "outputs": [],
   "source": [
    "#Evolution algorithm\n",
    "import time,json\n",
    "\n",
    "Stop=time.time()+60*60*max_time_h #Stop time in seconds\n",
    "i=0 #Iteration number counter\n",
    "while time.time()<Stop:  \n",
    "    Update_Best=False #Only update best if conditions apply\n",
    "    i=i+1\n",
    "    #print i\n",
    "    #Select Test variables\n",
    "    Test_variables={}\n",
    "    change_variables={}\n",
    "    change={}\n",
    "    for key in Good_variables.keys():\n",
    "        Rnd=random.random()\n",
    "        if Rnd>0.65: #Sometimes drop a variable\n",
    "            l=len(Good_variables[key])\n",
    "            n=min(l-random.randint(1,5),1)\n",
    "            change.update({key:'remove'})\n",
    "            new_variables=biased_sample(Good_variables[key],n,1/(Var_value[key]+1))\n",
    "            change_variables.update({key:[v for v in Good_variables[key] if v not in new_variables]})\n",
    "            Test_variables.update({key:new_variables})\n",
    "        elif Rnd>0.1: #Sometimes add a variable\n",
    "            varis=[v for v in Var_value[key].index if v not in Good_variables[key]]\n",
    "            l=len(varis)\n",
    "            n=min(random.randint(1,5),l)\n",
    "            change.update({key:'add'})\n",
    "            change_variables.update({key:biased_sample(varis,n,Var_value[key])})\n",
    "            new_variables=Good_variables[key]+change_variables[key]\n",
    "            Test_variables.update({key:new_variables})\n",
    "        else: #Sometimes choose something completely random\n",
    "            l=min(len(Var_value[key].index),len(Good_variables[key])*2)\n",
    "            change.update({key:'try'})\n",
    "            new_variables=biased_sample(varis,random.randint(1,l),Var_value[key])\n",
    "            change_variables.update({key:new_variables})\n",
    "            Test_variables.update({key:new_variables})\n",
    "        #print key,change, change_variables[key]\n",
    "\n",
    "    #Update Test_variables\n",
    "    Pred.pivot=Test_variables\n",
    "    Test_result=Pred.accuracy(groups=groups[:10],Measure=Fast_measure) #Fast measure\n",
    "    \n",
    "    #Test against best prediction\n",
    "    Next=True\n",
    "    rew={}\n",
    "    for key in Good_variables.keys():\n",
    "        rew.update({key:1.0})\n",
    "        if Test_result[key]>Best_result[key]:\n",
    "            Next=False\n",
    "            if change[key]=='add':\n",
    "                rew.update({key:1.05})\n",
    "            elif change[key]=='remove':\n",
    "                rew.update({key:0.95})\n",
    "            elif change[key]=='try':\n",
    "                rew.update({key:1.02})\n",
    "            else:\n",
    "                raise 'Undefined change'       \n",
    "        else:\n",
    "            if change[key]=='add':\n",
    "                rew.update({key:0.9})\n",
    "            elif change[key]=='remove':\n",
    "                rew.update({key:1.1})\n",
    "            elif change[key]=='try':\n",
    "                rew.update({key:0.98})\n",
    "            else:\n",
    "                raise 'Undefined change'\n",
    "    \n",
    "    #Update bias weights\n",
    "    for key in Good_variables.keys():\n",
    "        for var in change_variables[key]:\n",
    "            if Var_value[key][var]>0.02 and Var_value[key][var]<2.0:\n",
    "                Var_value[key][var]*=rew[key]\n",
    "            if Var_value[key][var]<0.02:\n",
    "                Var_value[key][var]=0.02\n",
    "            if Var_value[key][var]>2.0:\n",
    "                Var_value[key][var]=2.0\n",
    "    #Write to csv\n",
    "    Var_value.to_csv('Var_value_%s.csv'%Pname)\n",
    "    \n",
    "    #Continue with next if it did not improve\n",
    "    if Next:\n",
    "        continue\n",
    "    \n",
    "    #Test how many times it has a better result\n",
    "    Test_scores=Pred.score(groups=groups,Measure=tuple(set(Slow_measure.values())))\n",
    "    for key in Test_scores.keys():\n",
    "        conf=0.0\n",
    "        new_BACs=Test_scores[key][Slow_measure[key]]\n",
    "        old_BACs=Best_scores[key][Slow_measure[key]]\n",
    "        new_BACs.sort()\n",
    "        old_BACs.sort()\n",
    "        pos=0.0\n",
    "        tot=float(len(new_BACs)**2)\n",
    "        for new in new_BACs:\n",
    "            for k,old in enumerate(old_BACs):\n",
    "                if old>new:\n",
    "                    pos+=k\n",
    "                    break\n",
    "        conf=pos/tot\n",
    "        #If more than 60% are better, update\n",
    "        if conf>0.6:\n",
    "            with open('Log_%s.txt'%Pname,'a+') as handle:\n",
    "                handle.write('Updated: '+key+'\\n')\n",
    "            Good_variables.update({key:Test_variables[key]})\n",
    "            Update_Best=True\n",
    "    \n",
    "    #Update variables\n",
    "    if Update_Best:\n",
    "        Pred.pivot=Good_variables\n",
    "        groups=Pred.create_groups(50)\n",
    "        Best_result=Pred.accuracy(groups=groups)\n",
    "        Best_scores=Pred.score(groups=groups,Measure=tuple(set(Slow_measure.values())))\n",
    "        with open('Log_%s.txt'%Pname,'a+') as handle:\n",
    "            handle.write(str(Good_variables)+'\\n')\n",
    "            handle.write(str(Best_result)+'\\n')\n",
    "        with open('Good_variables_%s.json'%Pname,'w+') as handle:\n",
    "            handle.write(json.dumps(Good_variables))"
   ]
  },
  {
   "cell_type": "code",
   "execution_count": 9,
   "metadata": {
    "collapsed": false
   },
   "outputs": [
    {
     "name": "stdout",
     "output_type": "stream",
     "text": [
      "iter 35\n",
      "              AUROC       BAC        CI       PCC       Scr\n",
      "pCR        0.949710  0.847138       NaN  0.884240 -2.449502\n",
      "pRelapse   0.874751  0.793042       NaN  0.804983 -2.597437\n",
      "OS              NaN  0.515376  0.705869  0.731474 -3.579810\n",
      "Remission       NaN  0.584007  0.718919  0.764736 -4.976698\n",
      "\n",
      "[4 rows x 5 columns]\n"
     ]
    }
   ],
   "source": [
    "print 'iter',i\n",
    "Pred.pivot=Good_variables\n",
    "print Pred.result(rep=10)"
   ]
  },
  {
   "cell_type": "code",
   "execution_count": 10,
   "metadata": {
    "collapsed": false
   },
   "outputs": [
    {
     "name": "stdout",
     "output_type": "stream",
     "text": [
      "#Patient_id, pCR, pRelapse, Remission, OS\n",
      "id_002,1.0,0.478961620969,2,1\n",
      "id_003,0.0,0.0,1,2\n",
      "id_005,0.924535207475,0.57263322956,1,2\n",
      "id_006,0.423376335477,1.0,2,2\n",
      "id_008,0.689498742535,0.327394571943,1,2\n",
      "id_012,0.88904965236,1.0,2,2\n",
      "id_015,0.152532557058,0.925756151207,1,2\n",
      "id_016,0.585202063272,0.878529721841,1,2\n",
      "id_018,1.0,0.296859160064,3,2\n",
      "id_021,0.939546817985,1.0,3,2\n",
      "id_023,0.0,0.154114494676,1,2\n",
      "id_024,1.0,1.0,2,2\n",
      "id_025,0.730291571741,0.15224784727,2,2\n",
      "id_026,0.668254552828,0.215065790349,2,1\n",
      "id_027,0.999321168292,0.471852694092,2,1\n",
      "id_028,0.0,0.578776069161,3,1\n",
      "id_029,0.664926896909,0.454087494331,2,2\n",
      "id_030,0.580749444791,1.0,2,2\n",
      "id_031,1.0,0.0,1,2\n",
      "id_032,0.865519472717,0.174751975584,1,2\n",
      "id_033,0.297213563273,0.727378230222,2,2\n",
      "id_034,1.0,0.893761527041,1,2\n",
      "id_035,0.0,0.688337764127,2,3\n",
      "id_036,0.652675266613,1.0,1,1\n",
      "id_038,0.0,1.0,1,2\n",
      "id_039,1.0,0.970343775374,2,2\n",
      "id_040,0.0501147231175,0.22905372029,1,2\n",
      "id_041,0.0608379185494,0.682449313419,2,2\n",
      "id_042,0.406457892312,0.94926922533,2,2\n",
      "id_043,0.401745786859,0.887588760829,1,2\n",
      "id_044,0.0,0.452621396102,1,3\n",
      "id_045,0.428733566954,0.572574589293,1,2\n",
      "id_046,1.0,0.338057655638,3,2\n",
      "id_048,0.891887561973,0.660952996895,3,2\n",
      "id_049,1.0,0.873233612742,1,2\n",
      "id_050,0.708370453465,0.780507597285,2,2\n",
      "id_052,0.331444653345,0.173708317004,1,2\n",
      "id_053,1.0,0.276557320388,2,3\n",
      "id_055,0.232601889345,0.967286054251,1,1\n",
      "id_056,0.362103942823,0.816136059783,3,2\n",
      "id_059,0.823330709574,0.426492579531,2,3\n",
      "id_061,0.315675168713,0.664663654499,3,2\n",
      "id_062,0.703102833089,1.0,2,2\n",
      "id_064,0.0,1.0,1,2\n",
      "id_066,0.282496901396,0.91408957729,1,2\n",
      "id_069,0.132984909482,0.99909357313,1,2\n",
      "id_073,0.494824295753,0.818671315671,2,2\n",
      "id_075,0.350439561717,0.951833444202,3,2\n",
      "id_078,0.637733563311,0.71684016024,3,2\n",
      "id_079,0.120976763106,0.382055311824,1,2\n",
      "id_080,0.497073809636,0.843388099338,1,2\n",
      "id_081,1.0,0.886982633669,3,2\n",
      "id_082,1.0,0.327094900098,2,1\n",
      "id_083,1.0,0.312266591207,3,1\n",
      "id_084,1.0,0.507176845251,1,2\n",
      "id_085,1.0,0.0915115461321,2,2\n",
      "id_086,1.0,0.417126923626,2,2\n",
      "id_088,1.0,0.351614764531,2,1\n",
      "id_089,0.998983964662,0.672882897245,3,2\n",
      "id_090,1.0,1.0,1,1\n",
      "id_091,0.0,0.207717382579,1,1\n",
      "id_092,0.921477989556,0.602713654815,3,3\n",
      "id_093,0.250823613575,1.0,1,2\n",
      "id_094,0.731358931224,1.0,2,1\n",
      "id_095,1.0,0.812400322801,2,2\n",
      "id_096,0.0,0.226688040663,2,1\n",
      "id_097,0.822175122747,0.778214883318,1,2\n",
      "id_098,0.731413949684,0.614934967261,2,2\n",
      "id_099,0.391483344448,0.868718585252,2,1\n",
      "id_100,0.0,0.53932336611,2,2\n"
     ]
    }
   ],
   "source": [
    "Pred.predict()"
   ]
  }
 ],
 "metadata": {
  "kernelspec": {
   "display_name": "Python 2",
   "language": "python",
   "name": "python2"
  },
  "language_info": {
   "codemirror_mode": {
    "name": "ipython",
    "version": 2
   },
   "file_extension": ".py",
   "mimetype": "text/x-python",
   "name": "python",
   "nbconvert_exporter": "python",
   "pygments_lexer": "ipython2",
   "version": "2.7.6"
  }
 },
 "nbformat": 4,
 "nbformat_minor": 0
}
